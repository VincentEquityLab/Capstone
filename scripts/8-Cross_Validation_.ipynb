{
  "nbformat": 4,
  "nbformat_minor": 0,
  "metadata": {
    "colab": {
      "provenance": []
    },
    "kernelspec": {
      "name": "python3",
      "display_name": "Python 3"
    },
    "language_info": {
      "name": "python"
    }
  },
  "cells": [
    {
      "cell_type": "code",
      "execution_count": 1,
      "metadata": {
        "colab": {
          "base_uri": "https://localhost:8080/"
        },
        "id": "mWb0yurX3KTt",
        "outputId": "e42c1cbd-63af-445e-9212-f83609cf66a1"
      },
      "outputs": [
        {
          "output_type": "stream",
          "name": "stdout",
          "text": [
            "           Model  R² Mean   R² Std  RMSE Mean  RMSE Std\n",
            "0            KNN  0.79721  0.01490  165231.57  13354.75\n",
            "1  Decision Tree  0.75338  0.01864  182184.61  14480.24\n",
            "2  Random Forest  0.87885  0.01205  127622.92  11030.49\n",
            "3        XGBoost  0.88165  0.01482  126101.42  12556.08\n"
          ]
        }
      ],
      "source": [
        "# ✅ Step 1: Imports\n",
        "import pandas as pd\n",
        "import numpy as np\n",
        "from sklearn.model_selection import cross_val_score, KFold\n",
        "from sklearn.metrics import r2_score\n",
        "from sklearn.pipeline import Pipeline\n",
        "from sklearn.preprocessing import StandardScaler\n",
        "from sklearn.impute import SimpleImputer\n",
        "\n",
        "# Models\n",
        "from sklearn.neighbors import KNeighborsRegressor\n",
        "from sklearn.tree import DecisionTreeRegressor\n",
        "from sklearn.ensemble import RandomForestRegressor\n",
        "from xgboost import XGBRegressor\n",
        "\n",
        "# ✅ Step 2: Load Dataset (chemin mis à jour)\n",
        "df = pd.read_csv('/content/kc_house_data.csv')\n",
        "\n",
        "# Drop irrelevant or ID columns\n",
        "df.drop(['id', 'date'], axis=1, inplace=True)\n",
        "\n",
        "# Define target and features\n",
        "X = df.drop('price', axis=1)\n",
        "y = df['price']\n",
        "\n",
        "# ✅ Step 3: Preprocessing\n",
        "preprocessor = Pipeline([\n",
        "    ('imputer', SimpleImputer(strategy='mean')),\n",
        "    ('scaler', StandardScaler())\n",
        "])\n",
        "\n",
        "X_processed = preprocessor.fit_transform(X)\n",
        "\n",
        "# ✅ Step 4: Define Models\n",
        "models = {\n",
        "    \"KNN\": KNeighborsRegressor(),\n",
        "    \"Decision Tree\": DecisionTreeRegressor(random_state=42),\n",
        "    \"Random Forest\": RandomForestRegressor(random_state=42),\n",
        "    \"XGBoost\": XGBRegressor(random_state=42, verbosity=0)\n",
        "}\n",
        "\n",
        "# ✅ Step 5: Cross-Validation Setup\n",
        "cv = KFold(n_splits=5, shuffle=True, random_state=42)\n",
        "\n",
        "# ✅ Step 6: Evaluation\n",
        "results = []\n",
        "\n",
        "for name, model in models.items():\n",
        "    r2_scores = cross_val_score(model, X_processed, y, cv=cv, scoring='r2')\n",
        "    rmse_scores = np.sqrt(-cross_val_score(model, X_processed, y, cv=cv, scoring='neg_mean_squared_error'))\n",
        "\n",
        "    results.append({\n",
        "        \"Model\": name,\n",
        "        \"R² Mean\": np.round(r2_scores.mean(), 5),\n",
        "        \"R² Std\": np.round(r2_scores.std(), 5),\n",
        "        \"RMSE Mean\": np.round(rmse_scores.mean(), 2),\n",
        "        \"RMSE Std\": np.round(rmse_scores.std(), 2)\n",
        "    })\n",
        "\n",
        "# ✅ Step 7: Display Results\n",
        "results_df = pd.DataFrame(results)\n",
        "print(results_df)\n"
      ]
    }
  ]
}