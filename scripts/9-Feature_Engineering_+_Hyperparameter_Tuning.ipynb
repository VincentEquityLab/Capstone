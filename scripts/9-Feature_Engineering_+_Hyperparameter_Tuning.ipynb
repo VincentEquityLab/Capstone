{
  "nbformat": 4,
  "nbformat_minor": 0,
  "metadata": {
    "colab": {
      "provenance": []
    },
    "kernelspec": {
      "name": "python3",
      "display_name": "Python 3"
    },
    "language_info": {
      "name": "python"
    }
  },
  "cells": [
    {
      "cell_type": "code",
      "execution_count": 1,
      "metadata": {
        "colab": {
          "base_uri": "https://localhost:8080/"
        },
        "id": "5XHQM21T-yU2",
        "outputId": "a8db4080-0781-4016-ecb6-d70953ae0dbd"
      },
      "outputs": [
        {
          "output_type": "stream",
          "name": "stdout",
          "text": [
            "Fitting 3 folds for each of 10 candidates, totalling 30 fits\n",
            "✅ Best Hyperparameters:\n",
            "{'subsample': 0.7, 'n_estimators': 300, 'max_depth': 7, 'learning_rate': 0.05, 'colsample_bytree': 0.7}\n",
            "R² Score on test set: 0.8745\n",
            "RMSE on test set: 127780.25\n"
          ]
        }
      ],
      "source": [
        "# 📦 Imports\n",
        "import pandas as pd\n",
        "import numpy as np\n",
        "from sklearn.model_selection import train_test_split, RandomizedSearchCV\n",
        "from sklearn.metrics import r2_score, mean_squared_error\n",
        "from xgboost import XGBRegressor\n",
        "\n",
        "# 📥 Load dataset\n",
        "df = pd.read_csv(\"/content/kc_house_data.csv\")\n",
        "\n",
        "# 🧹 Basic cleaning\n",
        "df = df.drop_duplicates()\n",
        "df = df[(df['bedrooms'] > 0) & (df['bathrooms'] > 0)]\n",
        "df = df.drop(columns=['id', 'date'])\n",
        "\n",
        "# 🧪 Feature Engineering: Interaction term\n",
        "df['grade_x_sqft'] = df['grade'] * df['sqft_living']\n",
        "\n",
        "# 🎯 Features and target\n",
        "X = pd.get_dummies(df.drop(columns='price'), drop_first=True)\n",
        "y = df['price']\n",
        "\n",
        "# 🧪 Train/test split\n",
        "X_train, X_test, y_train, y_test = train_test_split(X, y, test_size=0.2, random_state=42)\n",
        "\n",
        "# 🎯 Hyperparameter space for tuning\n",
        "param_grid = {\n",
        "    'n_estimators': [100, 200, 300],\n",
        "    'learning_rate': [0.05, 0.1, 0.2],\n",
        "    'max_depth': [3, 5, 7],\n",
        "    'subsample': [0.7, 0.8, 1.0],\n",
        "    'colsample_bytree': [0.7, 0.8, 1.0]\n",
        "}\n",
        "\n",
        "# 🚀 Randomized Search on XGBoost\n",
        "xgb = XGBRegressor(random_state=42, verbosity=0)\n",
        "random_search = RandomizedSearchCV(\n",
        "    estimator=xgb,\n",
        "    param_distributions=param_grid,\n",
        "    n_iter=10,\n",
        "    cv=3,\n",
        "    scoring='r2',\n",
        "    verbose=1,\n",
        "    random_state=42,\n",
        "    n_jobs=-1\n",
        ")\n",
        "\n",
        "random_search.fit(X_train, y_train)\n",
        "best_model = random_search.best_estimator_\n",
        "\n",
        "# 📈 Evaluate\n",
        "y_pred = best_model.predict(X_test)\n",
        "r2 = r2_score(y_test, y_pred)\n",
        "rmse = np.sqrt(mean_squared_error(y_test, y_pred))\n",
        "\n",
        "# 📊 Output\n",
        "print(\"✅ Best Hyperparameters:\")\n",
        "print(random_search.best_params_)\n",
        "print(f\"R² Score on test set: {r2:.4f}\")\n",
        "print(f\"RMSE on test set: {rmse:.2f}\")\n"
      ]
    }
  ]
}